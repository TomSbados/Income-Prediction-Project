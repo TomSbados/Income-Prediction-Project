{
 "cells": [
  {
   "cell_type": "code",
   "execution_count": 15,
   "id": "ae3bb44b-956d-4215-bffa-2e0d8e94928c",
   "metadata": {},
   "outputs": [],
   "source": [
    "import pandas as pd\n",
    "import math\n",
    "import matplotlib.pyplot as plt\n",
    "import numpy as np\n",
    "from collections import counter"
   ]
  },
  {
   "cell_type": "code",
   "execution_count": 9,
   "id": "0b58b337-e302-40f2-aeff-f4ad7b8ce822",
   "metadata": {},
   "outputs": [],
   "source": [
    "class DecisionTree:\n",
    "    def __init__(self, node):\n",
    "        self.node = node"
   ]
  },
  {
   "cell_type": "code",
   "execution_count": 41,
   "id": "5d39841d-fc33-4c79-9bd9-19068f69943f",
   "metadata": {},
   "outputs": [],
   "source": [
    "training_data = [['green', 3, 'apple'],\n",
    "                 ['yellow', 1, 'lemon'],\n",
    "                 ['orange', 2, 'orange'],\n",
    "                 ['yellow', 3, 'apple'],\n",
    "                 ['red', 3, 'apple'],\n",
    "                 ['red', 1, 'grape']]\n",
    "\n",
    "header = ['color', 'diameter', 'label']"
   ]
  },
  {
   "cell_type": "code",
   "execution_count": 43,
   "id": "d9e04dbb-aec1-44b2-8c99-cfce4fd9dfef",
   "metadata": {},
   "outputs": [],
   "source": [
    "data = pd.DataFrame()\n",
    "data[header] = pd.DataFrame(training_data)"
   ]
  },
  {
   "cell_type": "code",
   "execution_count": 45,
   "id": "03f1ae97-7c2f-4e33-b74c-d3131477becd",
   "metadata": {},
   "outputs": [],
   "source": [
    "class Node:\n",
    "    def __init__(self, feature=None, threshold=None, left=None, right=None,*,value=None):\n",
    "        self.feature = feature\n",
    "        self.threshold = threshold\n",
    "        self.left = left \n",
    "        self.right = right\n",
    "        self.value = value\n",
    "        \n",
    "    def is_leaf_node(self):\n",
    "        return self.value is not None"
   ]
  },
  {
   "cell_type": "code",
   "execution_count": 49,
   "id": "86811601-6a09-428e-8684-1a3a49d1f73f",
   "metadata": {},
   "outputs": [
    {
     "ename": "IndentationError",
     "evalue": "expected an indented block after function definition on line 32 (2056057853.py, line 35)",
     "output_type": "error",
     "traceback": [
      "\u001b[0;36m  Cell \u001b[0;32mIn[49], line 35\u001b[0;36m\u001b[0m\n\u001b[0;31m    def _most_common_label():\u001b[0m\n\u001b[0m    ^\u001b[0m\n\u001b[0;31mIndentationError\u001b[0m\u001b[0;31m:\u001b[0m expected an indented block after function definition on line 32\n"
     ]
    }
   ],
   "source": [
    "class DecisionTree:\n",
    "\n",
    "    def __init__(self, min_samples_split=2, max_depth=100, n_features=None):\n",
    "        self.min_samples_split = min_samples_split\n",
    "        self.max_depth = max_depth\n",
    "        self.n_features = n_features\n",
    "        self.root = None\n",
    "        \n",
    "    def fit(self, X, y):\n",
    "        self.n_features = X.shape[1] if not self.n_features else min(X.shape[1], self.n_features)\n",
    "        self.root = self._grow_tree(X, y)\n",
    "\n",
    "    def _grow_tree(self, X, y, depth=0):\n",
    "        # check stopping criteria\n",
    "        n_samples, n_feats = X.shape\n",
    "        n_labels = len(np.unique(y))\n",
    "\n",
    "        if (depth >= self.max_depth or n_labels == 1 or n_samples < min_samples_split):\n",
    "            leaf_value = self._most_common_label(y)\n",
    "            return Node(value=leaf_value)\n",
    "            \n",
    "        \n",
    "        feats = np.random.choice(n_feats, self.n_features, replace=False)\n",
    "        # find optimal split\n",
    "        best_thresh, best_feat = self._best_split(X, y, feats)\n",
    "        \n",
    "\n",
    "        # create child nodes\n",
    "\n",
    "        #recursive call\n",
    "\n",
    "    def predict(): \n",
    "\n",
    "\n",
    "    def _most_common_label():\n",
    "        counter = Counter(y)\n",
    "        return counter.most_common(1)[0][0]\n",
    "\n",
    "\n",
    "    def _best_split(X, y, feats):\n",
    "        best_gain = -1\n",
    "        best_thresh, best_feat = None, None\n",
    "\n",
    "        for feat in feats\n",
    "        return"
   ]
  },
  {
   "cell_type": "code",
   "execution_count": null,
   "id": "27b8371b-5b54-4b85-8a03-a7f59a7764a3",
   "metadata": {},
   "outputs": [],
   "source": []
  }
 ],
 "metadata": {
  "kernelspec": {
   "display_name": "Python 3 (ipykernel)",
   "language": "python",
   "name": "python3"
  },
  "language_info": {
   "codemirror_mode": {
    "name": "ipython",
    "version": 3
   },
   "file_extension": ".py",
   "mimetype": "text/x-python",
   "name": "python",
   "nbconvert_exporter": "python",
   "pygments_lexer": "ipython3",
   "version": "3.12.4"
  }
 },
 "nbformat": 4,
 "nbformat_minor": 5
}
